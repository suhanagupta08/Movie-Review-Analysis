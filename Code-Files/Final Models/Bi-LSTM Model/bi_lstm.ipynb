{
 "cells": [
  {
   "cell_type": "code",
   "execution_count": 3,
   "metadata": {
    "id": "btgXvwaoognw"
   },
   "outputs": [],
   "source": [
    "# This Python 3 environment comes with many helpful analytics libraries installed\n",
    "# It is defined by the kaggle/python Docker image: https://github.com/kaggle/docker-python\n",
    "# For example, here's several helpful packages to load\n",
    "import numpy as np # linear algebra\n",
    "import pandas as pd # data processing, CSV file I/O (e.g. pd.read_csv)\n",
    "\n",
    "# Input data files are available in the read-only \"../input/\" directory\n",
    "# For example, running this (by clicking run or pressing Shift+Enter) will list all files under the input directory\n",
    "\n",
    "import os\n",
    "for dirname, _, filenames in os.walk('/kaggle/input'):\n",
    "    for filename in filenames:\n",
    "        print(os.path.join(dirname, filename))\n",
    "\n",
    "# You can write up to 20GB to the current directory (/kaggle/working/) that gets preserved as output when you create a version using \"Save & Run All\" \n",
    "# You can also write temporary files to /kaggle/temp/, but they won't be saved outside of the current session"
   ]
  },
  {
   "cell_type": "code",
   "execution_count": 3,
   "metadata": {
    "colab": {
     "base_uri": "https://localhost:8080/"
    },
    "execution": {
     "iopub.execute_input": "2022-11-09T11:04:25.569092Z",
     "iopub.status.busy": "2022-11-09T11:04:25.568387Z",
     "iopub.status.idle": "2022-11-09T11:04:25.665472Z",
     "shell.execute_reply": "2022-11-09T11:04:25.664998Z",
     "shell.execute_reply.started": "2022-11-09T11:04:25.569064Z"
    },
    "id": "qiz-MpeeQTWi",
    "outputId": "fb0659d6-45c3-453b-d346-52cc21f36fec"
   },
   "outputs": [
    {
     "name": "stderr",
     "output_type": "stream",
     "text": [
      "[nltk_data] Downloading package punkt to /root/nltk_data...\n",
      "[nltk_data]   Package punkt is already up-to-date!\n",
      "[nltk_data] Downloading package wordnet to /root/nltk_data...\n",
      "[nltk_data]   Package wordnet is already up-to-date!\n",
      "[nltk_data] Downloading package stopwords to /root/nltk_data...\n",
      "[nltk_data]   Package stopwords is already up-to-date!\n",
      "[nltk_data] Downloading package omw-1.4 to /root/nltk_data...\n",
      "[nltk_data]   Package omw-1.4 is already up-to-date!\n"
     ]
    },
    {
     "data": {
      "text/plain": [
       "True"
      ]
     },
     "execution_count": 3,
     "metadata": {},
     "output_type": "execute_result"
    }
   ],
   "source": [
    "import nltk\n",
    "import pandas as pd\n",
    "from nltk.corpus import stopwords\n",
    "from keras.models import Sequential\n",
    "from keras.preprocessing.text import Tokenizer\n",
    "from keras_preprocessing.sequence import pad_sequences\n",
    "from keras.layers import Dense, Embedding, LSTM, SpatialDropout1D, Conv1D, MaxPooling1D, MaxPooling1D, GlobalMaxPooling1D\n",
    "from sklearn.model_selection import train_test_split \n",
    "from sklearn.metrics import classification_report, f1_score, accuracy_score, confusion_matrix, plot_confusion_matrix, ConfusionMatrixDisplay\n",
    "import matplotlib.pyplot as plt\n",
    "import re\n",
    "from nltk.tokenize import word_tokenize\n",
    "from nltk.corpus import stopwords\n",
    "import tensorflow as tf\n",
    "import numpy as np\n",
    "nltk.download('punkt')\n",
    "nltk.download('wordnet')\n",
    "nltk.download('stopwords')\n",
    "import chardet\n",
    "from keras.layers import Dense, Embedding, LSTM, Dropout, Bidirectional\n",
    "from keras.constraints import maxnorm\n",
    "from tensorflow.keras.optimizers import Adamax \n",
    "from keras import regularizers\n",
    "nltk.download('omw-1.4')"
   ]
  },
  {
   "cell_type": "code",
   "execution_count": null,
   "metadata": {
    "id": "ZIi8e7Ruonrm"
   },
   "outputs": [],
   "source": [
    "from google.colab import drive\n",
    "drive.mount('/content/drive')"
   ]
  },
  {
   "cell_type": "code",
   "execution_count": 4,
   "metadata": {
    "colab": {
     "base_uri": "https://localhost:8080/",
     "height": 206
    },
    "execution": {
     "iopub.execute_input": "2022-11-09T11:04:36.422552Z",
     "iopub.status.busy": "2022-11-09T11:04:36.421659Z",
     "iopub.status.idle": "2022-11-09T11:04:45.306404Z",
     "shell.execute_reply": "2022-11-09T11:04:45.305836Z",
     "shell.execute_reply.started": "2022-11-09T11:04:36.422548Z"
    },
    "id": "vlXsOCwQon8k",
    "outputId": "22a3bf26-d0c2-4aba-943f-549d91abe9c2"
   },
   "outputs": [
    {
     "data": {
      "text/html": [
       "<div>\n",
       "<style scoped>\n",
       "    .dataframe tbody tr th:only-of-type {\n",
       "        vertical-align: middle;\n",
       "    }\n",
       "\n",
       "    .dataframe tbody tr th {\n",
       "        vertical-align: top;\n",
       "    }\n",
       "\n",
       "    .dataframe thead th {\n",
       "        text-align: right;\n",
       "    }\n",
       "</style>\n",
       "<table border=\"1\" class=\"dataframe\">\n",
       "  <thead>\n",
       "    <tr style=\"text-align: right;\">\n",
       "      <th></th>\n",
       "      <th>review</th>\n",
       "      <th>sentiment</th>\n",
       "      <th>label</th>\n",
       "    </tr>\n",
       "  </thead>\n",
       "  <tbody>\n",
       "    <tr>\n",
       "      <th>0</th>\n",
       "      <td>One of the other reviewers has mentioned that ...</td>\n",
       "      <td>positive</td>\n",
       "      <td>1</td>\n",
       "    </tr>\n",
       "    <tr>\n",
       "      <th>1</th>\n",
       "      <td>A wonderful little production. &lt;br /&gt;&lt;br /&gt;The...</td>\n",
       "      <td>positive</td>\n",
       "      <td>1</td>\n",
       "    </tr>\n",
       "    <tr>\n",
       "      <th>2</th>\n",
       "      <td>I thought this was a wonderful way to spend ti...</td>\n",
       "      <td>positive</td>\n",
       "      <td>1</td>\n",
       "    </tr>\n",
       "    <tr>\n",
       "      <th>3</th>\n",
       "      <td>Basically there's a family where a little boy ...</td>\n",
       "      <td>negative</td>\n",
       "      <td>0</td>\n",
       "    </tr>\n",
       "    <tr>\n",
       "      <th>4</th>\n",
       "      <td>Petter Mattei's \"Love in the Time of Money\" is...</td>\n",
       "      <td>positive</td>\n",
       "      <td>1</td>\n",
       "    </tr>\n",
       "  </tbody>\n",
       "</table>\n",
       "</div>"
      ],
      "text/plain": [
       "                                              review sentiment  label\n",
       "0  One of the other reviewers has mentioned that ...  positive      1\n",
       "1  A wonderful little production. <br /><br />The...  positive      1\n",
       "2  I thought this was a wonderful way to spend ti...  positive      1\n",
       "3  Basically there's a family where a little boy ...  negative      0\n",
       "4  Petter Mattei's \"Love in the Time of Money\" is...  positive      1"
      ]
     },
     "execution_count": 4,
     "metadata": {},
     "output_type": "execute_result"
    }
   ],
   "source": [
    "#df = pd.read_csv('/content/drive/MyDrive/NNDL/Assignment2 /IMDB_Dataset.csv')\n",
    "df = pd.read_csv('https://drive.google.com/uc?id=13skTlmf1OiiM8sN6eoLPTToJu5zfdzui&export=download ') #IMDB_Dataset.csv public direct URL\n",
    "\n",
    "def encode_sentiment_as_label(row): # Quick one hot encoding\n",
    "    if row['sentiment'] == \"positive\":\n",
    "        return 1\n",
    "    else:\n",
    "        return 0\n",
    "\n",
    "df['label'] = df.apply(lambda row: encode_sentiment_as_label(row), axis=1)\n",
    "df.head()"
   ]
  },
  {
   "cell_type": "code",
   "execution_count": 5,
   "metadata": {
    "execution": {
     "iopub.execute_input": "2022-11-09T11:05:05.123516Z",
     "iopub.status.busy": "2022-11-09T11:05:05.122806Z",
     "iopub.status.idle": "2022-11-09T11:06:04.165732Z",
     "shell.execute_reply": "2022-11-09T11:06:04.165118Z",
     "shell.execute_reply.started": "2022-11-09T11:05:05.123490Z"
    },
    "id": "EkQNbPLYQTWk"
   },
   "outputs": [],
   "source": [
    "labels = df['label']\n",
    "\n",
    "def featureEngineering(rev):\n",
    "    # Lower case rev\n",
    "    revMod = rev.lower()\n",
    "    # Remove <br />\n",
    "    revMod = revMod.replace('<br />','')\n",
    "    # Replace URLs with a space in the message\n",
    "    revMod = re.sub('https?:\\/\\/[a-zA-Z0-9@:%._\\/+~#=?&;-]*', ' ', revMod)\n",
    "    # Replace ticker symbols with a space. The ticker symbols are any stock symbol that starts with $.\n",
    "    revMod = re.sub('\\$[a-zA-Z0-9]*', ' ', revMod)\n",
    "    # Replace StockTwits usernames with a space. The usernames are any word that starts with @.\n",
    "    revMod = re.sub('\\@[a-zA-Z0-9]*', ' ', revMod)\n",
    "    # Replace everything not a letter or apostrophe with a space\n",
    "    revMod = re.sub('[^a-zA-Z\\']', ' ', revMod)\n",
    "    # Remove single letter words\n",
    "    revMod = ' '.join([w for w in revMod.split() if len(w) > 1])\n",
    "\n",
    "    return revMod\n",
    "\n",
    "\n",
    "# Process for all revs\n",
    "df['modrev'] = [featureEngineering(rev) for rev in df['review']]\n",
    "\n",
    "def lemmatizerev(rev):\n",
    "    words = [word for word in word_tokenize(rev) if (word.isalpha()==1)]\n",
    "    # Remove stop words\n",
    "    stop = set(stopwords.words('english'))\n",
    "    words = [word for word in words if (word not in stop)]\n",
    "    # Lemmatize words (first noun, then verb)\n",
    "    wnl = nltk.stem.WordNetLemmatizer()\n",
    "    lemmatized = [wnl.lemmatize(wnl.lemmatize(word, 'n'), 'v') for word in words]\n",
    "    return \" \".join(lemmatized)\n",
    "\n",
    "df['lemmatizedText'] = df[\"modrev\"].apply(lambda x:lemmatizerev(x))"
   ]
  },
  {
   "cell_type": "code",
   "execution_count": 6,
   "metadata": {
    "execution": {
     "iopub.execute_input": "2022-11-09T11:06:04.166922Z",
     "iopub.status.busy": "2022-11-09T11:06:04.166728Z",
     "iopub.status.idle": "2022-11-09T11:06:09.801469Z",
     "shell.execute_reply": "2022-11-09T11:06:09.800754Z",
     "shell.execute_reply.started": "2022-11-09T11:06:04.166922Z"
    },
    "id": "qhxoegG7QTWk"
   },
   "outputs": [],
   "source": [
    "tokenizer = Tokenizer(num_words=37320, split=' ')\n",
    "tokenizer.fit_on_texts(df['lemmatizedText'].values)\n",
    "X = tokenizer.texts_to_sequences(df['lemmatizedText'].values)\n",
    "X = pad_sequences(X)\n",
    "\n",
    "X_train, X_test, valid_train, valid_test = train_test_split(X, labels, test_size=0.7, random_state=42)\n",
    "\n",
    "# Split X_test and valid_test store as Y_test, Y_true. This will be used for separate evaluation of model\n",
    "Y_true = valid_test[int(len(valid_test)/4)*3::] # Set Y_true = 2nd 25% of labels from test set (Ground truth for evaluation)\n",
    "Y_test = X_test[int(len(X_test)/4)*3::]# Set Y_test = 2nd 25% of rows from test set\n",
    "\n",
    "X_test = X_test[0:int(len(X_test)/4)*3] # Set X_test to the 1st 25% of X_test\n",
    "valid_test = valid_test[0:int(len(valid_test)/4)*3] # Set valid_test to the 1st 25% of valid_test"
   ]
  },
  {
   "cell_type": "code",
   "execution_count": 31,
   "metadata": {
    "colab": {
     "base_uri": "https://localhost:8080/"
    },
    "execution": {
     "iopub.execute_input": "2022-10-18T13:17:44.670075Z",
     "iopub.status.busy": "2022-10-18T13:17:44.669696Z",
     "iopub.status.idle": "2022-10-18T13:17:44.677772Z",
     "shell.execute_reply": "2022-10-18T13:17:44.676861Z",
     "shell.execute_reply.started": "2022-10-18T13:17:44.670039Z"
    },
    "id": "ApgP3txbQTWl",
    "outputId": "32318088-b3ca-43ae-aa87-fc4d59344375"
   },
   "outputs": [
    {
     "name": "stdout",
     "output_type": "stream",
     "text": [
      "(15000, 1373) (15000,)\n",
      "(26250, 1373) (26250,)\n",
      "(8750, 1373)\n",
      "{'some', 'ours', \"doesn't\", 'down', 'and', 'our', 'below', 'nor', 'himself', 'myself', 'few', 'don', \"mustn't\", 'hers', 'both', 'you', 'will', \"you'd\", 'too', 'against', 'him', 'when', \"hadn't\", 'how', \"shan't\", 'above', 'than', 'this', 'during', 'mustn', 'is', 'as', 'ma', 'needn', 'his', 'to', 'theirs', 'me', 'off', 'about', 'here', 'we', 'the', 'there', 'ourselves', 'any', 'haven', 'all', \"it's\", 'a', \"haven't\", 'she', 'which', 'who', 'just', 'am', 'were', 'couldn', 'wouldn', 'itself', 'at', 'most', 'yours', 'doing', 'now', 'very', 're', \"don't\", 'into', 'has', 't', 'y', 'after', 'aren', 'i', 'if', 'they', 'whom', 'shouldn', 'before', 'yourself', 'where', 'its', 'under', 'up', 'ain', 'more', 'until', 'while', 'between', 'each', 'did', 'hadn', 'won', 'so', 'he', 'it', 'those', 's', 'same', \"hasn't\", 'no', \"you're\", 'from', \"she's\", 'have', 'them', 'in', 'an', 'weren', 'yourselves', 'wasn', 'had', 'or', 'only', \"aren't\", 'should', 'does', 'out', \"weren't\", 'been', 'are', 'then', 'on', 'her', \"couldn't\", 'with', \"you've\", 'herself', 'can', \"you'll\", 'themselves', 'of', 'what', 'your', 'such', 'be', 'o', 'didn', 'over', 'once', 'other', 've', \"isn't\", 'do', 'not', 'own', 'isn', 'by', \"should've\", 'being', 'm', 'through', 'll', 'my', \"that'll\", 'for', 'shan', 'but', 'further', \"wouldn't\", \"won't\", 'was', \"didn't\", 'why', 'again', \"mightn't\", 'because', 'mightn', \"needn't\", \"wasn't\", 'd', 'doesn', \"shouldn't\", 'having', 'that', 'their', 'hasn', 'these'}\n",
      "\n",
      "\n",
      "One of the other reviewers has mentioned that after watching just 1 Oz episode you'll be hooked. They are right, as this is exactly what happened with me.<br /><br />The first thing that struck me about Oz was its brutality and unflinching scenes of violence, which set in right from the word GO. Trust me, this is not a show for the faint hearted or timid. This show pulls no punches with regards to drugs, sex or violence. Its is hardcore, in the classic use of the word.<br /><br />It is called OZ as that is the nickname given to the Oswald Maximum Security State Penitentary. It focuses mainly on Emerald City, an experimental section of the prison where all the cells have glass fronts and face inwards, so privacy is not high on the agenda. Em City is home to many..Aryans, Muslims, gangstas, Latinos, Christians, Italians, Irish and more....so scuffles, death stares, dodgy dealings and shady agreements are never far away.<br /><br />I would say the main appeal of the show is due to the fact that it goes where other shows wouldn't dare. Forget pretty pictures painted for mainstream audiences, forget charm, forget romance...OZ doesn't mess around. The first episode I ever saw struck me as so nasty it was surreal, I couldn't say I was ready for it, but as I watched more, I developed a taste for Oz, and got accustomed to the high levels of graphic violence. Not just violence, but injustice (crooked guards who'll be sold out for a nickel, inmates who'll kill on order and get away with it, well mannered, middle class inmates being turned into prison bitches due to their lack of street skills or prison experience) Watching Oz, you may become comfortable with what is uncomfortable viewing....thats if you can get in touch with your darker side.\n",
      "['One', 'of', 'the', 'other', 'reviewers', 'has', 'mentioned', 'that', 'after', 'watching', 'just', '1', 'Oz', 'episode', 'you', \"'ll\", 'be', 'hooked', '.', 'They', 'are', 'right', ',', 'as', 'this', 'is', 'exactly', 'what', 'happened', 'with', 'me.', '<', 'br', '/', '>', '<', 'br', '/', '>', 'The', 'first', 'thing', 'that', 'struck', 'me', 'about', 'Oz', 'was', 'its', 'brutality', 'and', 'unflinching', 'scenes', 'of', 'violence', ',', 'which', 'set', 'in', 'right', 'from', 'the', 'word', 'GO', '.', 'Trust', 'me', ',', 'this', 'is', 'not', 'a', 'show', 'for', 'the', 'faint', 'hearted', 'or', 'timid', '.', 'This', 'show', 'pulls', 'no', 'punches', 'with', 'regards', 'to', 'drugs', ',', 'sex', 'or', 'violence', '.', 'Its', 'is', 'hardcore', ',', 'in', 'the', 'classic', 'use', 'of', 'the', 'word.', '<', 'br', '/', '>', '<', 'br', '/', '>', 'It', 'is', 'called', 'OZ', 'as', 'that', 'is', 'the', 'nickname', 'given', 'to', 'the', 'Oswald', 'Maximum', 'Security', 'State', 'Penitentary', '.', 'It', 'focuses', 'mainly', 'on', 'Emerald', 'City', ',', 'an', 'experimental', 'section', 'of', 'the', 'prison', 'where', 'all', 'the', 'cells', 'have', 'glass', 'fronts', 'and', 'face', 'inwards', ',', 'so', 'privacy', 'is', 'not', 'high', 'on', 'the', 'agenda', '.', 'Em', 'City', 'is', 'home', 'to', 'many', '..', 'Aryans', ',', 'Muslims', ',', 'gangstas', ',', 'Latinos', ',', 'Christians', ',', 'Italians', ',', 'Irish', 'and', 'more', '....', 'so', 'scuffles', ',', 'death', 'stares', ',', 'dodgy', 'dealings', 'and', 'shady', 'agreements', 'are', 'never', 'far', 'away.', '<', 'br', '/', '>', '<', 'br', '/', '>', 'I', 'would', 'say', 'the', 'main', 'appeal', 'of', 'the', 'show', 'is', 'due', 'to', 'the', 'fact', 'that', 'it', 'goes', 'where', 'other', 'shows', 'would', \"n't\", 'dare', '.', 'Forget', 'pretty', 'pictures', 'painted', 'for', 'mainstream', 'audiences', ',', 'forget', 'charm', ',', 'forget', 'romance', '...', 'OZ', 'does', \"n't\", 'mess', 'around', '.', 'The', 'first', 'episode', 'I', 'ever', 'saw', 'struck', 'me', 'as', 'so', 'nasty', 'it', 'was', 'surreal', ',', 'I', 'could', \"n't\", 'say', 'I', 'was', 'ready', 'for', 'it', ',', 'but', 'as', 'I', 'watched', 'more', ',', 'I', 'developed', 'a', 'taste', 'for', 'Oz', ',', 'and', 'got', 'accustomed', 'to', 'the', 'high', 'levels', 'of', 'graphic', 'violence', '.', 'Not', 'just', 'violence', ',', 'but', 'injustice', '(', 'crooked', 'guards', 'who', \"'ll\", 'be', 'sold', 'out', 'for', 'a', 'nickel', ',', 'inmates', 'who', \"'ll\", 'kill', 'on', 'order', 'and', 'get', 'away', 'with', 'it', ',', 'well', 'mannered', ',', 'middle', 'class', 'inmates', 'being', 'turned', 'into', 'prison', 'bitches', 'due', 'to', 'their', 'lack', 'of', 'street', 'skills', 'or', 'prison', 'experience', ')', 'Watching', 'Oz', ',', 'you', 'may', 'become', 'comfortable', 'with', 'what', 'is', 'uncomfortable', 'viewing', '....', 'thats', 'if', 'you', 'can', 'get', 'in', 'touch', 'with', 'your', 'darker', 'side', '.']\n",
      "one reviewer mention watch oz episode hook right exactly happen first thing strike oz brutality unflinching scene violence set right word go trust show faint hearted timid show pull punch regard drug sex violence hardcore classic use word call oz nickname give oswald maximum security state penitentary focus mainly emerald city experimental section prison cell glass front face inwards privacy high agenda em city home many aryan muslim gangsta latino christian italian irish scuffle death stare dodgy deal shady agreement never far away would say main appeal show due fact go show would dare forget pretty picture paint mainstream audience forget charm forget romance oz mess around first episode ever saw strike nasty surreal could say ready watch develop taste oz get accustom high level graphic violence violence injustice crook guard sell nickel inmate kill order get away well mannered middle class inmate turn prison bitch due lack street skill prison experience watch oz may become comfortable uncomfortable view thats get touch darker side\n"
     ]
    }
   ],
   "source": [
    "print(X_train.shape,valid_train.shape)\n",
    "print(X_test.shape,valid_test.shape)\n",
    "print(Y_test.shape)\n",
    "print(set(stopwords.words('english')))\n",
    "print(\"\\n\")\n",
    "print((df['review'][0]))\n",
    "print(word_tokenize(df['review'][0]))\n",
    "#print(df['modrev'][0])\n",
    "print(df['lemmatizedText'][0])"
   ]
  },
  {
   "cell_type": "code",
   "execution_count": 8,
   "metadata": {
    "colab": {
     "base_uri": "https://localhost:8080/",
     "height": 1000
    },
    "execution": {
     "iopub.execute_input": "2022-11-09T11:06:29.068638Z",
     "iopub.status.busy": "2022-11-09T11:06:29.068367Z",
     "iopub.status.idle": "2022-11-09T11:06:29.710159Z",
     "shell.execute_reply": "2022-11-09T11:06:29.709573Z",
     "shell.execute_reply.started": "2022-11-09T11:06:29.068617Z"
    },
    "id": "oDsSkpRBQTWl",
    "outputId": "cf5b760c-ed19-4828-dfcf-8819a996e772"
   },
   "outputs": [
    {
     "name": "stdout",
     "output_type": "stream",
     "text": [
      "Model: \"sequential_1\"\n",
      "_________________________________________________________________\n",
      " Layer (type)                Output Shape              Param #   \n",
      "=================================================================\n",
      " embedding_1 (Embedding)     (None, 1373, 40)          1492800   \n",
      "                                                                 \n",
      " dropout_2 (Dropout)         (None, 1373, 40)          0         \n",
      "                                                                 \n",
      " bidirectional_2 (Bidirectio  (None, 1373, 512)        608256    \n",
      " nal)                                                            \n",
      "                                                                 \n",
      " dropout_3 (Dropout)         (None, 1373, 512)         0         \n",
      "                                                                 \n",
      " bidirectional_3 (Bidirectio  (None, 256)              656384    \n",
      " nal)                                                            \n",
      "                                                                 \n",
      " dense_1 (Dense)             (None, 1)                 257       \n",
      "                                                                 \n",
      "=================================================================\n",
      "Total params: 2,757,697\n",
      "Trainable params: 2,757,697\n",
      "Non-trainable params: 0\n",
      "_________________________________________________________________\n",
      "None\n",
      "You must install pydot (`pip install pydot`) and install graphviz (see instructions at https://graphviz.gitlab.io/download/) for plot_model/model_to_dot to work.\n"
     ]
    }
   ],
   "source": [
    "model_dropout = Sequential()\n",
    "model_dropout.add(Embedding(input_dim=37320, output_dim=40, input_length=X.shape[1]))\n",
    "model_dropout.add(Dropout(0.5))\n",
    "model_dropout.add(Bidirectional(LSTM(units=256, return_sequences=True, kernel_initializer='he_uniform')))\n",
    "model_dropout.add(Dropout(0.5))\n",
    "model_dropout.add(Bidirectional(LSTM(units=128, return_sequences=False, kernel_initializer='he_uniform')))\n",
    "model_dropout.add(Dense(1, activation='sigmoid'))\n",
    "optimizer = Adamax(learning_rate = 0.01)\n",
    "model_dropout.compile(loss='binary_crossentropy', optimizer=optimizer, metrics=['accuracy'])\n",
    "print(model_dropout.summary())\n",
    "from keras.utils import plot_model\n",
    "plot_model(model_dropout, show_shapes = True)"
   ]
  },
  {
   "cell_type": "code",
   "execution_count": 54,
   "metadata": {
    "colab": {
     "base_uri": "https://localhost:8080/"
    },
    "execution": {
     "iopub.execute_input": "2022-11-09T11:34:44.939451Z",
     "iopub.status.busy": "2022-11-09T11:34:44.938669Z",
     "iopub.status.idle": "2022-11-09T11:59:28.515854Z",
     "shell.execute_reply": "2022-11-09T11:59:28.515145Z",
     "shell.execute_reply.started": "2022-11-09T11:34:44.939425Z"
    },
    "id": "-r987CZtQTWl",
    "outputId": "a0706e5b-c784-41b6-bf83-85a578885a87"
   },
   "outputs": [
    {
     "name": "stdout",
     "output_type": "stream",
     "text": [
      "Epoch 1/50\n",
      "59/59 [==============================] - 29s 497ms/step - loss: 0.0765 - accuracy: 0.9727 - val_loss: 0.6072 - val_accuracy: 0.8280\n",
      "Epoch 2/50\n",
      "59/59 [==============================] - 29s 497ms/step - loss: 0.0752 - accuracy: 0.9734 - val_loss: 1.4278 - val_accuracy: 0.6982\n",
      "Epoch 3/50\n",
      "59/59 [==============================] - 29s 499ms/step - loss: 0.3952 - accuracy: 0.8369 - val_loss: 0.6390 - val_accuracy: 0.7402\n",
      "Epoch 4/50\n",
      "59/59 [==============================] - 29s 499ms/step - loss: 0.2257 - accuracy: 0.9110 - val_loss: 0.6326 - val_accuracy: 0.7663\n",
      "Epoch 5/50\n",
      "59/59 [==============================] - 29s 501ms/step - loss: 0.1621 - accuracy: 0.9388 - val_loss: 0.5888 - val_accuracy: 0.8017\n",
      "Epoch 6/50\n",
      "59/59 [==============================] - 29s 500ms/step - loss: 0.1330 - accuracy: 0.9499 - val_loss: 0.5523 - val_accuracy: 0.8160\n",
      "Epoch 7/50\n",
      "59/59 [==============================] - 29s 500ms/step - loss: 0.1108 - accuracy: 0.9585 - val_loss: 0.5709 - val_accuracy: 0.8184\n",
      "Epoch 8/50\n",
      "59/59 [==============================] - 29s 500ms/step - loss: 0.1107 - accuracy: 0.9607 - val_loss: 0.6047 - val_accuracy: 0.8097\n",
      "Epoch 9/50\n",
      "59/59 [==============================] - 29s 499ms/step - loss: 0.0962 - accuracy: 0.9657 - val_loss: 0.7769 - val_accuracy: 0.7920\n",
      "Epoch 10/50\n",
      "59/59 [==============================] - 29s 499ms/step - loss: 0.0870 - accuracy: 0.9700 - val_loss: 0.5987 - val_accuracy: 0.8090\n",
      "Epoch 11/50\n",
      "59/59 [==============================] - 29s 500ms/step - loss: 0.0740 - accuracy: 0.9744 - val_loss: 0.6437 - val_accuracy: 0.8084\n",
      "Epoch 12/50\n",
      "59/59 [==============================] - 29s 499ms/step - loss: 0.0668 - accuracy: 0.9769 - val_loss: 0.6286 - val_accuracy: 0.8140\n",
      "Epoch 13/50\n",
      "59/59 [==============================] - 29s 500ms/step - loss: 0.0600 - accuracy: 0.9795 - val_loss: 0.6634 - val_accuracy: 0.8095\n",
      "Epoch 14/50\n",
      "59/59 [==============================] - 29s 500ms/step - loss: 0.0625 - accuracy: 0.9783 - val_loss: 0.5815 - val_accuracy: 0.8314\n",
      "Epoch 15/50\n",
      "59/59 [==============================] - 29s 499ms/step - loss: 0.0607 - accuracy: 0.9793 - val_loss: 0.6713 - val_accuracy: 0.8238\n",
      "Epoch 16/50\n",
      "59/59 [==============================] - 29s 499ms/step - loss: 0.0644 - accuracy: 0.9771 - val_loss: 0.6235 - val_accuracy: 0.8319\n",
      "Epoch 17/50\n",
      "59/59 [==============================] - 29s 500ms/step - loss: 0.0476 - accuracy: 0.9837 - val_loss: 0.6818 - val_accuracy: 0.8275\n",
      "Epoch 18/50\n",
      "59/59 [==============================] - 29s 500ms/step - loss: 0.0433 - accuracy: 0.9852 - val_loss: 0.7063 - val_accuracy: 0.8241\n",
      "Epoch 19/50\n",
      "59/59 [==============================] - 29s 501ms/step - loss: 0.0371 - accuracy: 0.9882 - val_loss: 0.7134 - val_accuracy: 0.8346\n",
      "Epoch 20/50\n",
      "59/59 [==============================] - 29s 501ms/step - loss: 0.0383 - accuracy: 0.9859 - val_loss: 0.6757 - val_accuracy: 0.8241\n",
      "Epoch 21/50\n",
      "59/59 [==============================] - 29s 499ms/step - loss: 0.0399 - accuracy: 0.9868 - val_loss: 0.7297 - val_accuracy: 0.8270\n",
      "Epoch 22/50\n",
      "59/59 [==============================] - 39s 672ms/step - loss: 0.0329 - accuracy: 0.9884 - val_loss: 0.7441 - val_accuracy: 0.8280\n",
      "Epoch 23/50\n",
      "59/59 [==============================] - 29s 496ms/step - loss: 0.0354 - accuracy: 0.9885 - val_loss: 0.6937 - val_accuracy: 0.8206\n",
      "Epoch 24/50\n",
      "59/59 [==============================] - 29s 498ms/step - loss: 0.0370 - accuracy: 0.9874 - val_loss: 0.7443 - val_accuracy: 0.8134\n",
      "Epoch 25/50\n",
      "59/59 [==============================] - 29s 499ms/step - loss: 0.0416 - accuracy: 0.9852 - val_loss: 0.7949 - val_accuracy: 0.8244\n",
      "Epoch 26/50\n",
      "59/59 [==============================] - 29s 500ms/step - loss: 0.0367 - accuracy: 0.9865 - val_loss: 0.7908 - val_accuracy: 0.8291\n",
      "Epoch 27/50\n",
      "59/59 [==============================] - 29s 499ms/step - loss: 0.0293 - accuracy: 0.9898 - val_loss: 0.7395 - val_accuracy: 0.8323\n",
      "Epoch 28/50\n",
      "59/59 [==============================] - 29s 500ms/step - loss: 0.0242 - accuracy: 0.9924 - val_loss: 0.8299 - val_accuracy: 0.8276\n",
      "Epoch 29/50\n",
      "59/59 [==============================] - 29s 500ms/step - loss: 0.0243 - accuracy: 0.9913 - val_loss: 0.8244 - val_accuracy: 0.8329\n",
      "Epoch 30/50\n",
      "59/59 [==============================] - 29s 500ms/step - loss: 0.0240 - accuracy: 0.9925 - val_loss: 0.7935 - val_accuracy: 0.8324\n",
      "Epoch 31/50\n",
      "59/59 [==============================] - 29s 500ms/step - loss: 0.0217 - accuracy: 0.9926 - val_loss: 0.8184 - val_accuracy: 0.8313\n",
      "Epoch 32/50\n",
      "59/59 [==============================] - 29s 500ms/step - loss: 0.0318 - accuracy: 0.9889 - val_loss: 0.8204 - val_accuracy: 0.8238\n",
      "Epoch 33/50\n",
      "59/59 [==============================] - 29s 499ms/step - loss: 0.0214 - accuracy: 0.9923 - val_loss: 0.8145 - val_accuracy: 0.8329\n",
      "Epoch 34/50\n",
      "59/59 [==============================] - 29s 499ms/step - loss: 0.0172 - accuracy: 0.9943 - val_loss: 1.0078 - val_accuracy: 0.8283\n",
      "Epoch 35/50\n",
      "59/59 [==============================] - 29s 500ms/step - loss: 0.0206 - accuracy: 0.9929 - val_loss: 0.7637 - val_accuracy: 0.8318\n",
      "Epoch 36/50\n",
      "59/59 [==============================] - 29s 500ms/step - loss: 0.0165 - accuracy: 0.9947 - val_loss: 0.9075 - val_accuracy: 0.8393\n",
      "Epoch 37/50\n",
      "59/59 [==============================] - 29s 500ms/step - loss: 0.0151 - accuracy: 0.9953 - val_loss: 0.8937 - val_accuracy: 0.8264\n",
      "Epoch 38/50\n",
      "59/59 [==============================] - 29s 501ms/step - loss: 0.0148 - accuracy: 0.9953 - val_loss: 0.8381 - val_accuracy: 0.8339\n",
      "Epoch 39/50\n",
      "59/59 [==============================] - 29s 500ms/step - loss: 0.0141 - accuracy: 0.9956 - val_loss: 1.0497 - val_accuracy: 0.8267\n",
      "Epoch 40/50\n",
      "59/59 [==============================] - 29s 500ms/step - loss: 0.0189 - accuracy: 0.9937 - val_loss: 0.9171 - val_accuracy: 0.8169\n",
      "Epoch 41/50\n",
      "59/59 [==============================] - 29s 500ms/step - loss: 0.0177 - accuracy: 0.9943 - val_loss: 0.8919 - val_accuracy: 0.8334\n",
      "Epoch 42/50\n",
      "59/59 [==============================] - 29s 499ms/step - loss: 0.0112 - accuracy: 0.9965 - val_loss: 0.9428 - val_accuracy: 0.8350\n",
      "Epoch 43/50\n",
      "59/59 [==============================] - 29s 499ms/step - loss: 0.0169 - accuracy: 0.9946 - val_loss: 0.9752 - val_accuracy: 0.8253\n",
      "Epoch 44/50\n",
      "59/59 [==============================] - 29s 500ms/step - loss: 0.0155 - accuracy: 0.9951 - val_loss: 0.8515 - val_accuracy: 0.8288\n",
      "Epoch 45/50\n",
      "59/59 [==============================] - 29s 498ms/step - loss: 0.0105 - accuracy: 0.9969 - val_loss: 1.0787 - val_accuracy: 0.8208\n",
      "Epoch 46/50\n",
      "59/59 [==============================] - 29s 498ms/step - loss: 0.0169 - accuracy: 0.9945 - val_loss: 0.9330 - val_accuracy: 0.8339\n",
      "Epoch 47/50\n",
      "59/59 [==============================] - 29s 497ms/step - loss: 0.0095 - accuracy: 0.9968 - val_loss: 0.9091 - val_accuracy: 0.8392\n",
      "Epoch 48/50\n",
      "59/59 [==============================] - 29s 497ms/step - loss: 0.0086 - accuracy: 0.9970 - val_loss: 1.0441 - val_accuracy: 0.8376\n",
      "Epoch 49/50\n",
      "59/59 [==============================] - 39s 670ms/step - loss: 0.0125 - accuracy: 0.9963 - val_loss: 0.9886 - val_accuracy: 0.8341\n",
      "Epoch 50/50\n",
      "59/59 [==============================] - 29s 493ms/step - loss: 0.0113 - accuracy: 0.9965 - val_loss: 0.9385 - val_accuracy: 0.8164\n"
     ]
    }
   ],
   "source": [
    "history = model_dropout.fit(X_train, valid_train, epochs = 50, batch_size=256, validation_data=(X_test, valid_test))"
   ]
  },
  {
   "cell_type": "code",
   "execution_count": 63,
   "metadata": {
    "execution": {
     "iopub.execute_input": "2022-11-09T12:02:28.049277Z",
     "iopub.status.busy": "2022-11-09T12:02:28.048999Z",
     "iopub.status.idle": "2022-11-09T12:02:28.427985Z",
     "shell.execute_reply": "2022-11-09T12:02:28.427021Z",
     "shell.execute_reply.started": "2022-11-09T12:02:28.049258Z"
    },
    "id": "tzNN2FIXQTWm"
   },
   "outputs": [
    {
     "data": {
      "image/png": "[encoded data removed]",
      "text/plain": [
       "<Figure size 432x288 with 1 Axes>"
      ]
     },
     "metadata": {
      "needs_background": "light"
     },
     "output_type": "display_data"
    }
   ],
   "source": [
    "# Plotting the accuracies\n",
    "plt.plot(history.history['accuracy'])\n",
    "plt.plot(history.history['val_accuracy'])\n",
    "plt.title('Bi-LSTM + Attention Model Accuracy')\n",
    "plt.ylabel('Accuracy')\n",
    "plt.xlabel('Epochs')\n",
    "plt.legend(['train', 'validate'], loc='upper left')\n",
    "#plt.savefig('./overall_acc.png')"
   ]
  },
  {
   "cell_type": "code",
   "execution_count": 68,
   "metadata": {
    "execution": {
     "iopub.execute_input": "2022-11-09T12:16:46.398830Z",
     "iopub.status.busy": "2022-11-09T12:16:46.398572Z",
     "iopub.status.idle": "2022-11-09T12:16:46.494284Z",
     "shell.execute_reply": "2022-11-09T12:16:46.493647Z",
     "shell.execute_reply.started": "2022-11-09T12:16:46.398812Z"
    },
    "id": "T78YbW__QTWm"
   },
   "outputs": [
    {
     "data": {
      "text/plain": [
       "<matplotlib.legend.Legend at 0x7f6835f89b80>"
      ]
     },
     "execution_count": 68,
     "metadata": {},
     "output_type": "execute_result"
    },
    {
     "data": {
      "image/png": "[encoded data removed]",
      "text/plain": [
       "<Figure size 432x288 with 1 Axes>"
      ]
     },
     "metadata": {
      "needs_background": "light"
     },
     "output_type": "display_data"
    }
   ],
   "source": [
    "# Plotting the losses\n",
    "plt.plot(history.history['loss'])\n",
    "plt.plot(history.history['val_loss'])\n",
    "plt.title('Bi-LSTM + Attention Model Loss')\n",
    "plt.ylabel('Loss')\n",
    "plt.xlabel('Epochs')\n",
    "plt.legend(['train', 'validate'], loc='upper left')\n",
    "#plt.savefig('./overall_loss.png')"
   ]
  },
  {
   "cell_type": "code",
   "execution_count": 66,
   "metadata": {
    "colab": {
     "base_uri": "https://localhost:8080/"
    },
    "execution": {
     "iopub.execute_input": "2022-11-09T12:14:30.880686Z",
     "iopub.status.busy": "2022-11-09T12:14:30.880347Z",
     "iopub.status.idle": "2022-11-09T12:14:53.434966Z",
     "shell.execute_reply": "2022-11-09T12:14:53.434438Z",
     "shell.execute_reply.started": "2022-11-09T12:14:30.880659Z"
    },
    "id": "y5-PrNdkjNIA",
    "outputId": "875433c9-16e6-4b95-d976-7ae89393aee0"
   },
   "outputs": [
    {
     "name": "stdout",
     "output_type": "stream",
     "text": [
      "274/274 [==============================] - 22s 81ms/step\n",
      "              precision    recall  f1-score   support\n",
      "\n",
      "           0     0.8123    0.8244    0.8183      4409\n",
      "           1     0.8189    0.8065    0.8127      4341\n",
      "\n",
      "    accuracy                         0.8155      8750\n",
      "   macro avg     0.8156    0.8155    0.8155      8750\n",
      "weighted avg     0.8156    0.8155    0.8155      8750\n",
      "\n",
      "Micro F1 Score: 0.8155428571428572\n",
      "Macro F1 Score: 0.8154995867504287\n",
      "Accuracy Score: 0.8155428571428571\n"
     ]
    },
    {
     "data": {
      "image/png": "[encoded data removed]",
      "text/plain": [
       "<Figure size 432x288 with 2 Axes>"
      ]
     },
     "metadata": {
      "needs_background": "light"
     },
     "output_type": "display_data"
    }
   ],
   "source": [
    "Y_pred = model_dropout.predict(Y_test)\n",
    "Y_pred = Y_pred.flatten()\n",
    "\n",
    "def prediction_value_to_label(row):\n",
    "    if row['y_pred_val'] > 0.5:\n",
    "        return 1\n",
    "    else:\n",
    "        return 0\n",
    "\n",
    "out = pd.DataFrame()\n",
    "out['y_pred_val'] = Y_pred\n",
    "out['y_pred'] = out.apply(lambda row: prediction_value_to_label(row), axis=1)\n",
    "\n",
    "print(classification_report(Y_true, out[\"y_pred\"], digits=4))\n",
    "print(f'Micro F1 Score: {f1_score(Y_true, out[\"y_pred\"], average=\"micro\")}')\n",
    "print(f'Macro F1 Score: {f1_score(Y_true, out[\"y_pred\"], average=\"macro\")}')\n",
    "print(f'Accuracy Score: {accuracy_score(Y_true, out[\"y_pred\"])}')\n",
    "\n",
    "cm = confusion_matrix(Y_true, out['y_pred'], labels=[0,1])\n",
    "disp = ConfusionMatrixDisplay(confusion_matrix=cm,\n",
    "        display_labels=['negative','positive'])\n",
    "disp.plot()\n",
    "plt.title('Confusion matrix (Bi-LSTM + Attention)')\n",
    "plt.xticks(rotation = 90)\n",
    "plt.tight_layout()\n",
    "plt.savefig(\"figure\")"
   ]
  },
  {
   "cell_type": "code",
   "execution_count": 67,
   "metadata": {
    "colab": {
     "base_uri": "https://localhost:8080/"
    },
    "execution": {
     "iopub.execute_input": "2022-11-09T12:15:40.029189Z",
     "iopub.status.busy": "2022-11-09T12:15:40.028265Z",
     "iopub.status.idle": "2022-11-09T12:15:55.989689Z",
     "shell.execute_reply": "2022-11-09T12:15:55.988815Z",
     "shell.execute_reply.started": "2022-11-09T12:15:40.029153Z"
    },
    "id": "qFeo7bgwQTWm",
    "outputId": "9ecc5d5a-d6df-4865-9553-22e2d8b34fb4"
   },
   "outputs": [
    {
     "name": "stderr",
     "output_type": "stream",
     "text": [
      "WARNING:absl:Found untraced functions such as lstm_cell_7_layer_call_fn, lstm_cell_7_layer_call_and_return_conditional_losses, lstm_cell_8_layer_call_fn, lstm_cell_8_layer_call_and_return_conditional_losses, lstm_cell_10_layer_call_fn while saving (showing 5 of 8). These functions will not be directly callable after loading.\n"
     ]
    },
    {
     "name": "stdout",
     "output_type": "stream",
     "text": [
      "INFO:tensorflow:Assets written to: ./bi_lstm/assets\n"
     ]
    },
    {
     "name": "stderr",
     "output_type": "stream",
     "text": [
      "INFO:tensorflow:Assets written to: ./bi_lstm/assets\n"
     ]
    }
   ],
   "source": [
    "model_dropout.save('./bi_lstm')\n",
    "model_dropout.save('./bi_lstm.h5')"
   ]
  }
 ],
 "metadata": {
  "accelerator": "GPU",
  "colab": {
   "collapsed_sections": [],
   "provenance": []
  },
  "gpuClass": "standard",
  "kernelspec": {
   "display_name": "Python 3 (ipykernel)",
   "language": "python",
   "name": "python3"
  },
  "language_info": {
   "codemirror_mode": {
    "name": "ipython",
    "version": 3
   },
   "file_extension": ".py",
   "mimetype": "text/x-python",
   "name": "python",
   "nbconvert_exporter": "python",
   "pygments_lexer": "ipython3",
   "version": "3.9.13"
  }
 },
 "nbformat": 4,
 "nbformat_minor": 4
}
